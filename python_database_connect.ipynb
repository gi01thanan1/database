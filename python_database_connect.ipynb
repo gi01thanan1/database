{
 "cells": [
  {
   "cell_type": "code",
   "execution_count": 1,
   "id": "a6173cf2",
   "metadata": {},
   "outputs": [],
   "source": [
    "import mysql.connector"
   ]
  },
  {
   "cell_type": "code",
   "execution_count": null,
   "id": "c1c21bb8",
   "metadata": {},
   "outputs": [],
   "source": [
    "#Host: sql7.freesqldatabase.com\n",
    "#Database name: sql7719783\n",
    "#Database user: sql7719783\n",
    "#Database password: FbFdGiFmIY\n",
    "#Port number: 3306"
   ]
  },
  {
   "cell_type": "code",
   "execution_count": 29,
   "id": "3eedbd45",
   "metadata": {},
   "outputs": [
    {
     "data": {
      "text/plain": [
       "<mysql.connector.connection.MySQLConnection at 0x2b7490bda50>"
      ]
     },
     "execution_count": 29,
     "metadata": {},
     "output_type": "execute_result"
    }
   ],
   "source": [
    "conn = mysql.connector.connect(host=\"sql7.freesqldatabase.com\",\n",
    "                              user=\"sql7719783\",\n",
    "                              password=\"FbFdGiFmIY\",\n",
    "                              database=\"sql7719783\",\n",
    "                              port=3306)\n",
    "conn"
   ]
  },
  {
   "cell_type": "code",
   "execution_count": 30,
   "id": "cbfb3044",
   "metadata": {},
   "outputs": [
    {
     "data": {
      "text/plain": [
       "<mysql.connector.cursor.MySQLCursor at 0x2b74ad2ac90>"
      ]
     },
     "execution_count": 30,
     "metadata": {},
     "output_type": "execute_result"
    }
   ],
   "source": [
    "cursor = conn.cursor()\n",
    "cursor"
   ]
  },
  {
   "cell_type": "code",
   "execution_count": 4,
   "id": "f1ca8e8c",
   "metadata": {},
   "outputs": [],
   "source": [
    "cursor.execute(\"\"\"\n",
    "select * from Books;\"\"\")"
   ]
  },
  {
   "cell_type": "code",
   "execution_count": 5,
   "id": "570ed0e3",
   "metadata": {},
   "outputs": [
    {
     "data": {
      "text/plain": [
       "[(1,\n",
       "  'Walden, and On The Duty Of Civil Disobedience',\n",
       "  'Henry David Thoreau',\n",
       "  1849,\n",
       "  3100471153),\n",
       " (2, 'The Scarlet Letter', 'Nathaniel Hawthorne', 1850, 4589408958),\n",
       " (3,\n",
       "  'The Adventures of Sherlock Holmes',\n",
       "  'Arthur Conan Doyle',\n",
       "  1892,\n",
       "  2411676280),\n",
       " (4, 'The Adventures of Tom Sawyer', 'Mark Twain', 1876, 7813216705),\n",
       " (5, 'David Copperfield', 'Charles Dickens', 1850, 8821265677),\n",
       " (6, 'A Modest Proposal', 'Jonathan Swift', 1729, 9675136364),\n",
       " (7, 'The Sign of the Four', 'Arthur Conan Doyle', 1890, 9615072124),\n",
       " (8,\n",
       "  'The Importance of Being Earnest: A Trivial Comedy for Serious People',\n",
       "  'Oscar Wilde',\n",
       "  1895,\n",
       "  4733732465),\n",
       " (9, \"Uncle Tom's Cabin\", 'Harriet Beecher Stowe', 1852, 1874764443),\n",
       " (10, 'The Count of Monte Cristo', 'Alexandre Dumas', 1884, 1799238621),\n",
       " (11, 'The Picture of Dorian Gray', 'Oscar Wilde', 1890, 2855934983),\n",
       " (12, 'Dracula', 'Bram Stoker', 1897, 8232533734),\n",
       " (13, 'Oliver Twist', 'Charles Dickens', 1839, 3071366111),\n",
       " (14,\n",
       "  'The Awakening, and Selected Short Stories',\n",
       "  'Kate Chopin',\n",
       "  1899,\n",
       "  3103139173),\n",
       " (15, 'The Time Machine', 'H. G. Wells', 1895, 9610930110),\n",
       " (16, 'Ulysses', 'James Joyce', 1922, 1472300125),\n",
       " (17, 'Les Misérables', 'Victor Hugo', 1895, 8252831254),\n",
       " (18, 'The Jungle Book', 'Rudyard Kipling', 1894, 3655763446),\n",
       " (19, 'Heart of Darkness', 'Joseph Conrad', 1899, 9334362486),\n",
       " (20, 'Treasure Island', 'Robert Louis Stevenson', 1883, 8563911061),\n",
       " (21, 'The Prince', 'Niccolò Machiavelli', 1532, 2656649474),\n",
       " (22, 'Adventures of Huckleberry Finn', 'Mark Twain', 1884, 8537695057),\n",
       " (23, 'Great Expectations', 'Charles Dickens', 1861, 5314419343),\n",
       " (24, 'Candide', 'Voltaire', 1759, 1026835475),\n",
       " (25,\n",
       "  'The Life and Adventures of Robinson Crusoe',\n",
       "  'Daniel Defoe',\n",
       "  1791,\n",
       "  7614272194),\n",
       " (26,\n",
       "  'The Adventures of Sherlock Holmes',\n",
       "  'Arthur Conan Doyle',\n",
       "  1892,\n",
       "  6117891368),\n",
       " (27, 'Wuthering Heights', 'Emily Brontë', 1847, 9622357787),\n",
       " (28, 'Heart of Darkness', 'Joseph Conrad', 1899, 2229312049),\n",
       " (29, 'A Modest Proposal', 'Jonathan Swift', 1729, 3056621645),\n",
       " (30, 'On the origin of species', 'Charles Darwin', 1859, 6010636156),\n",
       " (31,\n",
       "  \"Gulliver's Travels into Several Remote Nations of the World\",\n",
       "  'Jonathan Swift',\n",
       "  1726,\n",
       "  4649890037),\n",
       " (32, 'The Wonderful Wizard of Oz', 'L. Frank Baum', 1900, 9402443064),\n",
       " (33, 'Peter Pan', 'J. M. Barrie', 1911, 2793883256),\n",
       " (34, 'The Tale of Peter Rabbit', 'Beatrix Potter', 1901, 5748337449),\n",
       " (35, 'The Brothers Karamazov', 'Fyodor Dostoyevsky', 1880, 1218723292),\n",
       " (36, 'Great Expectations', 'Charles Dickens', 1861, 9050209500),\n",
       " (37, \"A Doll's House\", 'Henrik Ibsen', 1879, 3039350069),\n",
       " (38, 'Dubliners', 'James Joyce', 1914, 6886459965),\n",
       " (39, 'The Adventures of Tom Sawyer', 'Mark Twain', 1876, 1493041269),\n",
       " (40,\n",
       "  'Three Men in a Boat (To Say Nothing of the Dog)',\n",
       "  'Jerome K. Jerome',\n",
       "  1889,\n",
       "  4746758842),\n",
       " (41, 'The Scarlet Letter', 'Nathaniel Hawthorne', 1850, 8329029559),\n",
       " (42, 'The Prince', 'Niccolò Machiavelli', 1532, 6151512619),\n",
       " (43, 'The Yellow Wallpaper', 'Charlotte Perkins Gilman', 1892, 7476179474),\n",
       " (44, 'Pygmalion', 'Bernard Shaw', 1913, 6340638269),\n",
       " (45, 'The Secret Garden', 'Frances Hodgson Burnett', 1911, 9948565822),\n",
       " (46, 'Sense and Sensibility', 'Jane Austen', 1811, 5677520613),\n",
       " (47, 'Anne of Green Gables', 'L. M. Montgomery', 1908, 5419570516),\n",
       " (48, 'The Hound of the Baskervilles', 'Arthur Conan Doyle', 1902, 7367316687),\n",
       " (49, \"Alice's Adventures in Wonderland\", 'Lewis Carroll', 1865, 9617441017),\n",
       " (50, 'Jane Eyre: An Autobiography', 'Charlotte Brontë', 1847, 3641717422),\n",
       " (51, 'Dubliners', 'James Joyce', 1914, 9924891502),\n",
       " (52, 'David Copperfield', 'Charles Dickens', 1850, 6705736665),\n",
       " (53, \"Uncle Tom's Cabin\", 'Harriet Beecher Stowe', 1852, 7816127580),\n",
       " (54, 'The Yellow Wallpaper', 'Charlotte Perkins Gilman', 1892, 2503974912),\n",
       " (55, 'An Occurrence at Owl Creek Bridge', 'Ambrose Bierce', 1890, 6432246701),\n",
       " (56, 'The Picture of Dorian Gray', 'Oscar Wilde', 1890, 5057915174),\n",
       " (57, 'The Brothers Karamazov', 'Fyodor Dostoyevsky', 1880, 1591595018),\n",
       " (58,\n",
       "  \"Grimms' Fairy Tales\",\n",
       "  'Jacob Grimm and Wilhelm Grimm',\n",
       "  1858,\n",
       "  9481016995),\n",
       " (59, 'The War of the Worlds', 'H. G. Wells', 1898, 7360406327),\n",
       " (60, 'Dracula', 'Bram Stoker', 1897, 4274716715),\n",
       " (61, 'The Call of the Wild', 'Jack London', 1905, 5092202901),\n",
       " (62, 'Oliver Twist', 'Charles Dickens', 1839, 9103557294),\n",
       " (63, 'Treasure Island', 'Robert Louis Stevenson', 1883, 9985114885),\n",
       " (64, 'A Study in Scarlet', 'Arthur Conan Doyle', 1887, 6146781316),\n",
       " (65, 'The Scarlet Letter', 'Nathaniel Hawthorne', 1850, 7064200431),\n",
       " (66, 'The Count of Monte Cristo', 'Alexandre Dumas', 1884, 3303490694),\n",
       " (67, 'Les Misérables', 'Victor Hugo', 1895, 6502926567),\n",
       " (68, 'The Count of Monte Cristo', 'Alexandre Dumas', 1884, 1750433521),\n",
       " (69, 'Siddhartha', 'Hermann Hesse', 1922, 4524773001),\n",
       " (70,\n",
       "  'Also sprach Zarathustra',\n",
       "  'Friedrich Wilhelm Nietzsche',\n",
       "  1896,\n",
       "  8233453745),\n",
       " (71, 'A Tale of Two Cities', 'Charles Dickens', 1859, 4966189808),\n",
       " (72, 'The Yellow Wallpaper', 'Charlotte Perkins Gilman', 1892, 8015869193),\n",
       " (73, 'Dracula', 'Bram Stoker', 1897, 8730298424),\n",
       " (74,\n",
       "  'The Strange Case of Dr. Jekyll and Mr. Hyde',\n",
       "  'Robert Louis Stevenson',\n",
       "  1886,\n",
       "  5456105629),\n",
       " (75, 'Moby Dick; Or, The Whale', 'Herman Melville', 1851, 3254901352),\n",
       " (76, 'Jane Eyre: An Autobiography', 'Charlotte Brontë', 1847, 7490708197),\n",
       " (77, 'The Prophet', 'Kahlil Gibran', 1923, 5516789160),\n",
       " (78, 'The Prophet', 'Kahlil Gibran', 1923, 9731317241),\n",
       " (79, 'A Study in Scarlet', 'Arthur Conan Doyle', 1887, 4735557481),\n",
       " (80, 'Jane Eyre: An Autobiography', 'Charlotte Brontë', 1847, 5181168830),\n",
       " (81,\n",
       "  \"Grimms' Fairy Tales\",\n",
       "  'Jacob Grimm and Wilhelm Grimm',\n",
       "  1858,\n",
       "  2956935227),\n",
       " (82, 'Sense and Sensibility', 'Jane Austen', 1811, 3382858636),\n",
       " (83, 'Emma', 'Jane Austen', 1815, 3338413705),\n",
       " (84,\n",
       "  'Tractatus Logico-Philosophicus',\n",
       "  'Ludwig Wittgenstein',\n",
       "  1921,\n",
       "  7953286250),\n",
       " (85, 'Pygmalion', 'Bernard Shaw', 1913, 3028132298),\n",
       " (86, 'Siddhartha', 'Hermann Hesse', 1922, 9816358488),\n",
       " (87,\n",
       "  'Frankenstein; Or, The Modern Prometheus',\n",
       "  'Mary Wollstonecraft Shelley',\n",
       "  1818,\n",
       "  5100740849),\n",
       " (88, 'Ulysses', 'James Joyce', 1922, 9050461909),\n",
       " (89,\n",
       "  'Walden, and On The Duty Of Civil Disobedience',\n",
       "  'Henry David Thoreau',\n",
       "  1849,\n",
       "  1250001073),\n",
       " (90, 'The Jungle', 'Upton Sinclair', 1906, 9012348841),\n",
       " (91,\n",
       "  'The Importance of Being Earnest: A Trivial Comedy for Serious People',\n",
       "  'Oscar Wilde',\n",
       "  1895,\n",
       "  9067533454),\n",
       " (92, \"Alice's Adventures in Wonderland\", 'Lewis Carroll', 1865, 8015835428),\n",
       " (93, 'Great Expectations', 'Charles Dickens', 1861, 4043822646),\n",
       " (94,\n",
       "  'Walden, and On The Duty Of Civil Disobedience',\n",
       "  'Henry David Thoreau',\n",
       "  1849,\n",
       "  8026944492),\n",
       " (95,\n",
       "  'Also sprach Zarathustra',\n",
       "  'Friedrich Wilhelm Nietzsche',\n",
       "  1896,\n",
       "  7133340991),\n",
       " (96, 'A Study in Scarlet', 'Arthur Conan Doyle', 1887, 3312061309),\n",
       " (97,\n",
       "  'The Life and Adventures of Robinson Crusoe',\n",
       "  'Daniel Defoe',\n",
       "  1791,\n",
       "  8830076797),\n",
       " (98, 'An Occurrence at Owl Creek Bridge', 'Ambrose Bierce', 1890, 6854696214),\n",
       " (99, 'Little Women', 'Louisa May Alcott', 1869, 3945560004),\n",
       " (100, 'The Jungle Book', 'Rudyard Kipling', 1894, 9443427576),\n",
       " (101, 'Anna Karenina', 'graf Leo Tolstoy', 1878, 8754465846),\n",
       " (102, 'Hard Times', 'Charles Dickens', 1854, 6674338548),\n",
       " (103, 'Moby Dick; Or, The Whale', 'Herman Melville', 1851, 6616753388),\n",
       " (104, 'On the origin of species', 'Charles Darwin', 1859, 9362177222),\n",
       " (105, 'The Turn of the Screw', 'Henry James', 1898, 6435968624),\n",
       " (106, 'Wuthering Heights', 'Emily Brontë', 1847, 4592191348),\n",
       " (107, 'Little Women', 'Louisa May Alcott', 1869, 1965826731),\n",
       " (108, \"Pascal's Pensées\", 'Blaise Pascal', 1670, 5350687892),\n",
       " (109, 'Emma', 'Jane Austen', 1815, 6733484219),\n",
       " (110,\n",
       "  'The Strange Case of Dr. Jekyll and Mr. Hyde',\n",
       "  'Robert Louis Stevenson',\n",
       "  1886,\n",
       "  6219262708),\n",
       " (111,\n",
       "  'The Decameron of Giovanni Boccaccio',\n",
       "  'Giovanni Boccaccio',\n",
       "  1375,\n",
       "  2485650954),\n",
       " (112, 'The War of the Worlds', 'H. G. Wells', 1898, 7919408621),\n",
       " (113, 'On the origin of species', 'Charles Darwin', 1859, 3102441408),\n",
       " (114, 'The Wonderful Wizard of Oz', 'L. Frank Baum', 1900, 9562452329),\n",
       " (115, 'Hard Times', 'Charles Dickens', 1854, 3242500932),\n",
       " (116, 'The Brothers Karamazov', 'Fyodor Dostoyevsky', 1880, 3310765031),\n",
       " (117, 'The Time Machine', 'H. G. Wells', 1895, 7267049081),\n",
       " (118, 'Adventures of Huckleberry Finn', 'Mark Twain', 1884, 5259319712),\n",
       " (119, 'The Tale of Peter Rabbit', 'Beatrix Potter', 1901, 2755886014),\n",
       " (120, 'Dubliners', 'James Joyce', 1914, 3639380140),\n",
       " (121, 'The Mysterious Affair at Styles', 'Agatha Christie', 1920, 9303804404),\n",
       " (122, 'Metamorphosis', 'Franz Kafka', 1915, 7205341627),\n",
       " (123, 'The Mysterious Affair at Styles', 'Agatha Christie', 1920, 7280027397),\n",
       " (124,\n",
       "  'The Adventures of Sherlock Holmes',\n",
       "  'Arthur Conan Doyle',\n",
       "  1892,\n",
       "  7776442868),\n",
       " (125, 'Candide', 'Voltaire', 1759, 6478624379),\n",
       " (126,\n",
       "  'The Awakening, and Selected Short Stories',\n",
       "  'Kate Chopin',\n",
       "  1899,\n",
       "  9895378062),\n",
       " (127, 'David Copperfield', 'Charles Dickens', 1850, 8525488511),\n",
       " (128, 'The Picture of Dorian Gray', 'Oscar Wilde', 1890, 3664785630),\n",
       " (129,\n",
       "  'Also sprach Zarathustra',\n",
       "  'Friedrich Wilhelm Nietzsche',\n",
       "  1896,\n",
       "  8880867275),\n",
       " (130, 'Peter Pan', 'J. M. Barrie', 1911, 5135424406),\n",
       " (131, 'War and Peace', 'graf Leo Tolstoy', 1869, 9585335549),\n",
       " (132, 'War and Peace', 'graf Leo Tolstoy', 1869, 5605187849),\n",
       " (133, 'Treasure Island', 'Robert Louis Stevenson', 1883, 2952281573),\n",
       " (134, 'The Sign of the Four', 'Arthur Conan Doyle', 1890, 9535295098),\n",
       " (135, 'A Tale of Two Cities', 'Charles Dickens', 1859, 8996747227),\n",
       " (136, 'The Wonderful Wizard of Oz', 'L. Frank Baum', 1900, 1471501105),\n",
       " (137, \"Alice's Adventures in Wonderland\", 'Lewis Carroll', 1865, 3946912387),\n",
       " (138, 'The Sign of the Four', 'Arthur Conan Doyle', 1890, 6652171593),\n",
       " (139, 'Peter Pan', 'J. M. Barrie', 1911, 2588073202),\n",
       " (140,\n",
       "  \"Gulliver's Travels into Several Remote Nations of the World\",\n",
       "  'Jonathan Swift',\n",
       "  1726,\n",
       "  8923446356),\n",
       " (141,\n",
       "  'Three Men in a Boat (To Say Nothing of the Dog)',\n",
       "  'Jerome K. Jerome',\n",
       "  1889,\n",
       "  6572731534),\n",
       " (142,\n",
       "  'The Decameron of Giovanni Boccaccio',\n",
       "  'Giovanni Boccaccio',\n",
       "  1375,\n",
       "  3609260747),\n",
       " (143,\n",
       "  \"Gulliver's Travels into Several Remote Nations of the World\",\n",
       "  'Jonathan Swift',\n",
       "  1726,\n",
       "  5394770992),\n",
       " (144, 'Pride and Prejudice', 'Jane Austen', 1813, 9131059093),\n",
       " (145, 'Oliver Twist', 'Charles Dickens', 1839, 6444030057),\n",
       " (146, 'Metamorphosis', 'Franz Kafka', 1915, 6978078350),\n",
       " (147, 'The Adventures of Tom Sawyer', 'Mark Twain', 1876, 4750599556),\n",
       " (148, 'War and Peace', 'graf Leo Tolstoy', 1869, 9348938616),\n",
       " (149,\n",
       "  'The Importance of Being Earnest: A Trivial Comedy for Serious People',\n",
       "  'Oscar Wilde',\n",
       "  1895,\n",
       "  2054382275),\n",
       " (150, 'The Secret Garden', 'Frances Hodgson Burnett', 1911, 2438574546),\n",
       " (151, 'Second Treatise of Government', 'John Locke', 1689, 6979338785),\n",
       " (152, 'Anne of Green Gables', 'L. M. Montgomery', 1908, 4550745199),\n",
       " (153,\n",
       "  'Frankenstein; Or, The Modern Prometheus',\n",
       "  'Mary Wollstonecraft Shelley',\n",
       "  1818,\n",
       "  8839302214),\n",
       " (154,\n",
       "  'An Occurrence at Owl Creek Bridge',\n",
       "  'Ambrose Bierce',\n",
       "  1890,\n",
       "  8301235528),\n",
       " (155, 'The Prophet', 'Kahlil Gibran', 1923, 9013040583),\n",
       " (156,\n",
       "  'The Life and Adventures of Robinson Crusoe',\n",
       "  'Daniel Defoe',\n",
       "  1791,\n",
       "  3650881744),\n",
       " (157, 'Les Misérables', 'Victor Hugo', 1895, 9108696047),\n",
       " (158, 'Moby Dick; Or, The Whale', 'Herman Melville', 1851, 8158837759),\n",
       " (159,\n",
       "  'Three Men in a Boat (To Say Nothing of the Dog)',\n",
       "  'Jerome K. Jerome',\n",
       "  1889,\n",
       "  3293874630),\n",
       " (160, 'The War of the Worlds', 'H. G. Wells', 1898, 4474735051),\n",
       " (161, 'The Prince', 'Niccolò Machiavelli', 1532, 9323491902),\n",
       " (162, 'Pride and Prejudice', 'Jane Austen', 1813, 8156410777),\n",
       " (163, 'The Mysterious Affair at Styles', 'Agatha Christie', 1920, 3833130645),\n",
       " (164,\n",
       "  'The Hound of the Baskervilles',\n",
       "  'Arthur Conan Doyle',\n",
       "  1902,\n",
       "  7500891493),\n",
       " (165, 'The Turn of the Screw', 'Henry James', 1898, 2119519594),\n",
       " (166,\n",
       "  'The Strange Case of Dr. Jekyll and Mr. Hyde',\n",
       "  'Robert Louis Stevenson',\n",
       "  1886,\n",
       "  1388191607),\n",
       " (167, 'Anne of Green Gables', 'L. M. Montgomery', 1908, 6951820908),\n",
       " (168, \"Pascal's Pensées\", 'Blaise Pascal', 1670, 1688834109),\n",
       " (169, 'Second Treatise of Government', 'John Locke', 1689, 5647388501),\n",
       " (170, 'A Tale of Two Cities', 'Charles Dickens', 1859, 1396589796),\n",
       " (171, 'The Call of the Wild', 'Jack London', 1905, 7523202583),\n",
       " (172, \"Uncle Tom's Cabin\", 'Harriet Beecher Stowe', 1852, 1944291114),\n",
       " (173, 'Wuthering Heights', 'Emily Brontë', 1847, 2847748801),\n",
       " (174, 'A Modest Proposal', 'Jonathan Swift', 1729, 7708090276),\n",
       " (175, 'The Time Machine', 'H. G. Wells', 1895, 1291355714),\n",
       " (176, 'The Jungle', 'Upton Sinclair', 1906, 2932680848),\n",
       " (177, 'The Call of the Wild', 'Jack London', 1905, 3119888447),\n",
       " (178, 'The Secret Garden', 'Frances Hodgson Burnett', 1911, 8157982611),\n",
       " (179, 'Anna Karenina', 'graf Leo Tolstoy', 1878, 3570685469),\n",
       " (180,\n",
       "  'Frankenstein; Or, The Modern Prometheus',\n",
       "  'Mary Wollstonecraft Shelley',\n",
       "  1818,\n",
       "  5880488254),\n",
       " (181, 'Sense and Sensibility', 'Jane Austen', 1811, 7712942206),\n",
       " (182,\n",
       "  \"Grimms' Fairy Tales\",\n",
       "  'Jacob Grimm and Wilhelm Grimm',\n",
       "  1858,\n",
       "  7433732302),\n",
       " (183, 'Little Women', 'Louisa May Alcott', 1869, 3806008380),\n",
       " (184, 'Ulysses', 'James Joyce', 1922, 7973290433),\n",
       " (185, 'Don Quixote', 'Miguel de Cervantes Saavedra', 1605, 3037774000),\n",
       " (186, 'Pride and Prejudice', 'Jane Austen', 1813, 9229256777),\n",
       " (187, 'Don Quixote', 'Miguel de Cervantes Saavedra', 1605, 3750235511),\n",
       " (188,\n",
       "  'Tractatus Logico-Philosophicus',\n",
       "  'Ludwig Wittgenstein',\n",
       "  1921,\n",
       "  3733674722),\n",
       " (189, 'The Jungle Book', 'Rudyard Kipling', 1894, 2183505735),\n",
       " (190, 'Adventures of Huckleberry Finn', 'Mark Twain', 1884, 3766010638),\n",
       " (191, 'Emma', 'Jane Austen', 1815, 5913123586),\n",
       " (192, 'The Turn of the Screw', 'Henry James', 1898, 9586004168),\n",
       " (193, 'Candide', 'Voltaire', 1759, 9718482110),\n",
       " (194, 'The Tale of Peter Rabbit', 'Beatrix Potter', 1901, 5705857485),\n",
       " (195, 'Metamorphosis', 'Franz Kafka', 1915, 8949930384),\n",
       " (196,\n",
       "  'The Awakening, and Selected Short Stories',\n",
       "  'Kate Chopin',\n",
       "  1899,\n",
       "  5859811018),\n",
       " (197, 'Hard Times', 'Charles Dickens', 1854, 6616502217),\n",
       " (198, \"A Doll's House\", 'Henrik Ibsen', 1879, 6227932647),\n",
       " (199, 'Anna Karenina', 'graf Leo Tolstoy', 1878, 6318181860),\n",
       " (200, \"A Doll's House\", 'Henrik Ibsen', 1879, 2719805876)]"
      ]
     },
     "execution_count": 5,
     "metadata": {},
     "output_type": "execute_result"
    }
   ],
   "source": [
    "cursor.fetchall()"
   ]
  },
  {
   "cell_type": "code",
   "execution_count": 7,
   "id": "790aa400",
   "metadata": {},
   "outputs": [],
   "source": [
    "#find the number of availalbe copies of the book (Dracula) \n",
    "cursor.execute(\"\"\"\n",
    "select count(distinct b.bookid) as number_of_availalbe_copies from Books as b inner join Loans as l on l.bookid = b.bookid where b.title = \"Dracula\" and l.returneddate is not null;\"\"\")"
   ]
  },
  {
   "cell_type": "code",
   "execution_count": 8,
   "id": "936c35bd",
   "metadata": {},
   "outputs": [
    {
     "data": {
      "text/plain": [
       "[(3,)]"
      ]
     },
     "execution_count": 8,
     "metadata": {},
     "output_type": "execute_result"
    }
   ],
   "source": [
    "cursor.fetchall()"
   ]
  },
  {
   "cell_type": "code",
   "execution_count": 9,
   "id": "1c570f1a",
   "metadata": {},
   "outputs": [],
   "source": [
    "#/* check total copies of the book */\n",
    "cursor.execute(\"\"\"\n",
    "select title,count(*) as total_copies from Books \n",
    "group by title\n",
    "order by title;\"\"\")"
   ]
  },
  {
   "cell_type": "code",
   "execution_count": 10,
   "id": "9284750a",
   "metadata": {},
   "outputs": [
    {
     "data": {
      "text/plain": [
       "[(\"A Doll's House\", 3),\n",
       " ('A Modest Proposal', 3),\n",
       " ('A Study in Scarlet', 3),\n",
       " ('A Tale of Two Cities', 3),\n",
       " ('Adventures of Huckleberry Finn', 3),\n",
       " (\"Alice's Adventures in Wonderland\", 3),\n",
       " ('Also sprach Zarathustra', 3),\n",
       " ('An Occurrence at Owl Creek Bridge', 3),\n",
       " ('Anna Karenina', 3),\n",
       " ('Anne of Green Gables', 3),\n",
       " ('Candide', 3),\n",
       " ('David Copperfield', 3),\n",
       " ('Don Quixote', 2),\n",
       " ('Dracula', 3),\n",
       " ('Dubliners', 3),\n",
       " ('Emma', 3),\n",
       " ('Frankenstein; Or, The Modern Prometheus', 3),\n",
       " ('Great Expectations', 3),\n",
       " (\"Grimms' Fairy Tales\", 3),\n",
       " (\"Gulliver's Travels into Several Remote Nations of the World\", 3),\n",
       " ('Hard Times', 3),\n",
       " ('Heart of Darkness', 2),\n",
       " ('Jane Eyre: An Autobiography', 3),\n",
       " ('Les Misérables', 3),\n",
       " ('Little Women', 3),\n",
       " ('Metamorphosis', 3),\n",
       " ('Moby Dick; Or, The Whale', 3),\n",
       " ('Oliver Twist', 3),\n",
       " ('On the origin of species', 3),\n",
       " (\"Pascal's Pensées\", 2),\n",
       " ('Peter Pan', 3),\n",
       " ('Pride and Prejudice', 3),\n",
       " ('Pygmalion', 2),\n",
       " ('Second Treatise of Government', 2),\n",
       " ('Sense and Sensibility', 3),\n",
       " ('Siddhartha', 2),\n",
       " ('The Adventures of Sherlock Holmes', 3),\n",
       " ('The Adventures of Tom Sawyer', 3),\n",
       " ('The Awakening, and Selected Short Stories', 3),\n",
       " ('The Brothers Karamazov', 3),\n",
       " ('The Call of the Wild', 3),\n",
       " ('The Count of Monte Cristo', 3),\n",
       " ('The Decameron of Giovanni Boccaccio', 2),\n",
       " ('The Hound of the Baskervilles', 2),\n",
       " ('The Importance of Being Earnest: A Trivial Comedy for Serious People', 3),\n",
       " ('The Jungle', 2),\n",
       " ('The Jungle Book', 3),\n",
       " ('The Life and Adventures of Robinson Crusoe', 3),\n",
       " ('The Mysterious Affair at Styles', 3),\n",
       " ('The Picture of Dorian Gray', 3),\n",
       " ('The Prince', 3),\n",
       " ('The Prophet', 3),\n",
       " ('The Scarlet Letter', 3),\n",
       " ('The Secret Garden', 3),\n",
       " ('The Sign of the Four', 3),\n",
       " ('The Strange Case of Dr. Jekyll and Mr. Hyde', 3),\n",
       " ('The Tale of Peter Rabbit', 3),\n",
       " ('The Time Machine', 3),\n",
       " ('The Turn of the Screw', 3),\n",
       " ('The War of the Worlds', 3),\n",
       " ('The Wonderful Wizard of Oz', 3),\n",
       " ('The Yellow Wallpaper', 3),\n",
       " ('Three Men in a Boat (To Say Nothing of the Dog)', 3),\n",
       " ('Tractatus Logico-Philosophicus', 2),\n",
       " ('Treasure Island', 3),\n",
       " ('Ulysses', 3),\n",
       " (\"Uncle Tom's Cabin\", 3),\n",
       " ('Walden, and On The Duty Of Civil Disobedience', 3),\n",
       " ('War and Peace', 3),\n",
       " ('Wuthering Heights', 3)]"
      ]
     },
     "execution_count": 10,
     "metadata": {},
     "output_type": "execute_result"
    }
   ],
   "source": [
    "cursor.fetchall()"
   ]
  },
  {
   "cell_type": "code",
   "execution_count": 11,
   "id": "db5f8a9d",
   "metadata": {},
   "outputs": [],
   "source": [
    "#/* current total loans of the book */\n",
    "cursor.execute(\"\"\"\n",
    "select b.title,count(l.loanid) as total_loans from Loans as l inner join Books as b on l.bookid = b.bookid \n",
    "group by b.title\n",
    "order by title;\"\"\")"
   ]
  },
  {
   "cell_type": "code",
   "execution_count": 12,
   "id": "c858c3e9",
   "metadata": {},
   "outputs": [
    {
     "data": {
      "text/plain": [
       "[(\"A Doll's House\", 28),\n",
       " ('A Modest Proposal', 20),\n",
       " ('A Study in Scarlet', 31),\n",
       " ('A Tale of Two Cities', 37),\n",
       " ('Adventures of Huckleberry Finn', 23),\n",
       " (\"Alice's Adventures in Wonderland\", 38),\n",
       " ('Also sprach Zarathustra', 29),\n",
       " ('An Occurrence at Owl Creek Bridge', 33),\n",
       " ('Anna Karenina', 24),\n",
       " ('Anne of Green Gables', 24),\n",
       " ('Candide', 21),\n",
       " ('David Copperfield', 25),\n",
       " ('Don Quixote', 22),\n",
       " ('Dracula', 32),\n",
       " ('Dubliners', 26),\n",
       " ('Emma', 35),\n",
       " ('Frankenstein; Or, The Modern Prometheus', 53),\n",
       " ('Great Expectations', 29),\n",
       " (\"Grimms' Fairy Tales\", 33),\n",
       " (\"Gulliver's Travels into Several Remote Nations of the World\", 31),\n",
       " ('Hard Times', 25),\n",
       " ('Heart of Darkness', 19),\n",
       " ('Jane Eyre: An Autobiography', 37),\n",
       " ('Les Misérables', 25),\n",
       " ('Little Women', 30),\n",
       " ('Metamorphosis', 29),\n",
       " ('Moby Dick; Or, The Whale', 19),\n",
       " ('Oliver Twist', 21),\n",
       " ('On the origin of species', 31),\n",
       " (\"Pascal's Pensées\", 18),\n",
       " ('Peter Pan', 30),\n",
       " ('Pride and Prejudice', 28),\n",
       " ('Pygmalion', 21),\n",
       " ('Second Treatise of Government', 17),\n",
       " ('Sense and Sensibility', 34),\n",
       " ('Siddhartha', 20),\n",
       " ('The Adventures of Sherlock Holmes', 26),\n",
       " ('The Adventures of Tom Sawyer', 36),\n",
       " ('The Awakening, and Selected Short Stories', 43),\n",
       " ('The Brothers Karamazov', 22),\n",
       " ('The Call of the Wild', 28),\n",
       " ('The Count of Monte Cristo', 23),\n",
       " ('The Decameron of Giovanni Boccaccio', 20),\n",
       " ('The Hound of the Baskervilles', 16),\n",
       " ('The Importance of Being Earnest: A Trivial Comedy for Serious People', 32),\n",
       " ('The Jungle', 18),\n",
       " ('The Jungle Book', 28),\n",
       " ('The Life and Adventures of Robinson Crusoe', 30),\n",
       " ('The Mysterious Affair at Styles', 36),\n",
       " ('The Picture of Dorian Gray', 39),\n",
       " ('The Prince', 30),\n",
       " ('The Prophet', 29),\n",
       " ('The Scarlet Letter', 42),\n",
       " ('The Secret Garden', 29),\n",
       " ('The Sign of the Four', 25),\n",
       " ('The Strange Case of Dr. Jekyll and Mr. Hyde', 32),\n",
       " ('The Tale of Peter Rabbit', 33),\n",
       " ('The Time Machine', 27),\n",
       " ('The Turn of the Screw', 37),\n",
       " ('The War of the Worlds', 43),\n",
       " ('The Wonderful Wizard of Oz', 26),\n",
       " ('The Yellow Wallpaper', 31),\n",
       " ('Three Men in a Boat (To Say Nothing of the Dog)', 29),\n",
       " ('Tractatus Logico-Philosophicus', 16),\n",
       " ('Treasure Island', 28),\n",
       " ('Ulysses', 26),\n",
       " (\"Uncle Tom's Cabin\", 26),\n",
       " ('Walden, and On The Duty Of Civil Disobedience', 31),\n",
       " ('War and Peace', 31),\n",
       " ('Wuthering Heights', 34)]"
      ]
     },
     "execution_count": 12,
     "metadata": {},
     "output_type": "execute_result"
    }
   ],
   "source": [
    "cursor.fetchall()"
   ]
  },
  {
   "cell_type": "code",
   "execution_count": 13,
   "id": "25be85e9",
   "metadata": {},
   "outputs": [],
   "source": [
    "#/* total available books of dracula */\n",
    "cursor.execute(\"\"\"\n",
    "select count(distinct b.bookid) as number_of_availalbe_copies from Books as b inner join Loans as l on l.bookid = b.bookid where b.title = \"Dracula\" and l.returneddate is not null;\"\"\")"
   ]
  },
  {
   "cell_type": "code",
   "execution_count": 14,
   "id": "ca015dde",
   "metadata": {},
   "outputs": [
    {
     "data": {
      "text/plain": [
       "[(3,)]"
      ]
     },
     "execution_count": 14,
     "metadata": {},
     "output_type": "execute_result"
    }
   ],
   "source": [
    "cursor.fetchall()"
   ]
  },
  {
   "cell_type": "code",
   "execution_count": 16,
   "id": "672653a7",
   "metadata": {},
   "outputs": [],
   "source": [
    "#/* Add new books to the library \n",
    "cursor.execute(\"\"\"\n",
    "insert into Books (bookid,title,author,published,barcode) values (201,\"book201\",\"author201\",2024,201201201),\n",
    "(202,\"book202\",\"author202\",2024,202202202),(203,\"book203\",\"author203\",2024,203203203);\"\"\")"
   ]
  },
  {
   "cell_type": "code",
   "execution_count": 23,
   "id": "b276a305",
   "metadata": {},
   "outputs": [],
   "source": [
    "#/* Check out Books: books(4043822646, 2855934983) whose patron_email(jvaan@wisdompets.com), loandate=2020-08-25, duedate=2020-09-08, loanid=by_your_choice                            */\n",
    "cursor.execute(\"\"\"\n",
    "select * from Books as b inner join Loans as l on b.bookid = l.bookid inner join Patrons as p on l.patronid = p.patronid\n",
    "where \n",
    " b.Barcode in (4043822646,2855934983)\n",
    "  and p.email =\"jvaan@wisdompets.com\"\n",
    "  and l.LoanDate='2016-06-07'\n",
    " and l.DueDate='2016-06-21'\n",
    " ;\"\"\")"
   ]
  },
  {
   "cell_type": "code",
   "execution_count": 24,
   "id": "0329083f",
   "metadata": {},
   "outputs": [
    {
     "data": {
      "text/plain": [
       "[]"
      ]
     },
     "execution_count": 24,
     "metadata": {},
     "output_type": "execute_result"
    }
   ],
   "source": [
    "cursor.fetchall()"
   ]
  },
  {
   "cell_type": "code",
   "execution_count": null,
   "id": "7a3c5e4d",
   "metadata": {},
   "outputs": [],
   "source": [
    "#/* Check books for Due back                             */\n",
    "#/* generate a report of books due back on July 13, 2020 */\n",
    "#/* with patron contact information  \n",
    "cursor.execute(\"\"\"\n",
    "select * from Loans as l inner join Patrons as p on l.patronid = p.patronid\n",
    " where l.returneddate='2020-07-13';\"\"\")"
   ]
  },
  {
   "cell_type": "code",
   "execution_count": null,
   "id": "a680b512",
   "metadata": {},
   "outputs": [],
   "source": [
    "cursor.fetchall()"
   ]
  },
  {
   "cell_type": "code",
   "execution_count": 26,
   "id": "c86a88d4",
   "metadata": {},
   "outputs": [],
   "source": [
    "#/* Return books to the library (which have barcode=6435968624) and return this book at this date(2020-07-05)  \n",
    "cursor.execute(\"\"\"\n",
    "update Loans set returneddate='2020-07-05' where returneddate is null and  bookid=(select bookid from Books where  Barcode=6435968624);\"\"\")"
   ]
  },
  {
   "cell_type": "code",
   "execution_count": 35,
   "id": "11e2650d",
   "metadata": {},
   "outputs": [],
   "source": [
    "# /* Encourage Patrons to check out books                */\n",
    "#/* generate a report of showing 10 patrons who have\n",
    "#checked out the fewest books. \n",
    "cursor.execute(\"\"\"\n",
    "select p.patronid,p.firstname,p.lastname,p.email, count(l.loanid) as no_of_loans from Loans as l\n",
    " inner join Patrons as p on l.patronid = p.patronid\n",
    " group by p.patronid,p.firstname,p.lastname,p.email\n",
    " order by no_of_loans\n",
    " limit 10;\"\"\")"
   ]
  },
  {
   "cell_type": "code",
   "execution_count": 36,
   "id": "b0315bf8",
   "metadata": {},
   "outputs": [
    {
     "data": {
      "text/plain": [
       "[(83, 'Caril', 'Matejic', 'cmatejic2a@orangevalleycaa.org', 9),\n",
       " (69, 'Alaster', 'Ruggles', 'aruggles1w@red30design.com', 9),\n",
       " (73, 'Merle', 'Sukbhans', 'msukbhans20@orangevalleycaa.org', 11),\n",
       " (94, 'Curr', 'Fittall', 'cfittall2l@orangevalleycaa.org', 12),\n",
       " (64, 'Norby', 'Sleight', 'nsleight1r@kinetecoinc.com', 12),\n",
       " (50, 'Jack', 'Vaan', 'jvaan@wisdompets.com', 13),\n",
       " (7, 'Cammi', 'Kynett', 'ckynett6@orangevalleycaa.org', 14),\n",
       " (16, 'Carla', 'Swinfen', 'cswinfenf@kinetecoinc.com', 14),\n",
       " (3, 'Aleen', 'Fasey', 'afasey2@kinetecoinc.com', 14),\n",
       " (12, 'Orton', 'Stavers', 'ostaversb@orangevalleycaa.org', 14)]"
      ]
     },
     "execution_count": 36,
     "metadata": {},
     "output_type": "execute_result"
    }
   ],
   "source": [
    "cursor.fetchall()"
   ]
  },
  {
   "cell_type": "code",
   "execution_count": 37,
   "id": "631b213c",
   "metadata": {},
   "outputs": [],
   "source": [
    "#/* Find books to feature for an event                  \n",
    "# create a list of books from 1890s that are\n",
    "# currently available \n",
    "cursor.execute(\"\"\"\n",
    "select  b.Title, b.Author, b.Published from Books as b inner join Loans as l on b.BookID=l.BookID\n",
    " where b.published >= 1890 and l.ReturnedDate is not  null\n",
    " group by b.title,b.Author,b.published\n",
    " order by b.title\n",
    ";\"\"\")"
   ]
  },
  {
   "cell_type": "code",
   "execution_count": 38,
   "id": "8a582b59",
   "metadata": {},
   "outputs": [
    {
     "data": {
      "text/plain": [
       "[('Also sprach Zarathustra', 'Friedrich Wilhelm Nietzsche', 1896),\n",
       " ('An Occurrence at Owl Creek Bridge', 'Ambrose Bierce', 1890),\n",
       " ('Anne of Green Gables', 'L. M. Montgomery', 1908),\n",
       " ('Dracula', 'Bram Stoker', 1897),\n",
       " ('Dubliners', 'James Joyce', 1914),\n",
       " ('Heart of Darkness', 'Joseph Conrad', 1899),\n",
       " ('Les Misérables', 'Victor Hugo', 1895),\n",
       " ('Metamorphosis', 'Franz Kafka', 1915),\n",
       " ('Peter Pan', 'J. M. Barrie', 1911),\n",
       " ('Pygmalion', 'Bernard Shaw', 1913),\n",
       " ('Siddhartha', 'Hermann Hesse', 1922),\n",
       " ('The Adventures of Sherlock Holmes', 'Arthur Conan Doyle', 1892),\n",
       " ('The Awakening, and Selected Short Stories', 'Kate Chopin', 1899),\n",
       " ('The Call of the Wild', 'Jack London', 1905),\n",
       " ('The Hound of the Baskervilles', 'Arthur Conan Doyle', 1902),\n",
       " ('The Importance of Being Earnest: A Trivial Comedy for Serious People',\n",
       "  'Oscar Wilde',\n",
       "  1895),\n",
       " ('The Jungle', 'Upton Sinclair', 1906),\n",
       " ('The Jungle Book', 'Rudyard Kipling', 1894),\n",
       " ('The Mysterious Affair at Styles', 'Agatha Christie', 1920),\n",
       " ('The Picture of Dorian Gray', 'Oscar Wilde', 1890),\n",
       " ('The Prophet', 'Kahlil Gibran', 1923),\n",
       " ('The Secret Garden', 'Frances Hodgson Burnett', 1911),\n",
       " ('The Sign of the Four', 'Arthur Conan Doyle', 1890),\n",
       " ('The Tale of Peter Rabbit', 'Beatrix Potter', 1901),\n",
       " ('The Time Machine', 'H. G. Wells', 1895),\n",
       " ('The Turn of the Screw', 'Henry James', 1898),\n",
       " ('The War of the Worlds', 'H. G. Wells', 1898),\n",
       " ('The Wonderful Wizard of Oz', 'L. Frank Baum', 1900),\n",
       " ('The Yellow Wallpaper', 'Charlotte Perkins Gilman', 1892),\n",
       " ('Tractatus Logico-Philosophicus', 'Ludwig Wittgenstein', 1921),\n",
       " ('Ulysses', 'James Joyce', 1922)]"
      ]
     },
     "execution_count": 38,
     "metadata": {},
     "output_type": "execute_result"
    }
   ],
   "source": [
    "cursor.fetchall()"
   ]
  },
  {
   "cell_type": "code",
   "execution_count": 39,
   "id": "675994f5",
   "metadata": {},
   "outputs": [],
   "source": [
    "#/* Book Statistics \n",
    "#/* create a report to show how many books were \n",
    "#published each year. \n",
    "cursor.execute(\"\"\"\n",
    "SELECT Published, COUNT(DISTINCT(Title)) AS TotalNumberOfPublishedBooks\n",
    "FROM Books\n",
    "GROUP BY Published\n",
    "ORDER BY TotalNumberOfPublishedBooks DESC\n",
    ";\"\"\")"
   ]
  },
  {
   "cell_type": "code",
   "execution_count": 40,
   "id": "5f51908b",
   "metadata": {},
   "outputs": [
    {
     "data": {
      "text/plain": [
       "[(1890, 3),\n",
       " (1895, 3),\n",
       " (1899, 2),\n",
       " (1847, 2),\n",
       " (1884, 2),\n",
       " (1850, 2),\n",
       " (1911, 2),\n",
       " (1892, 2),\n",
       " (1859, 2),\n",
       " (1922, 2),\n",
       " (1869, 2),\n",
       " (1898, 2),\n",
       " (1811, 1),\n",
       " (1876, 1),\n",
       " (1813, 1),\n",
       " (1878, 1),\n",
       " (1900, 1),\n",
       " (1815, 1),\n",
       " (1879, 1),\n",
       " (1901, 1),\n",
       " (1818, 1),\n",
       " (1880, 1),\n",
       " (1902, 1),\n",
       " (1839, 1),\n",
       " (1883, 1),\n",
       " (1905, 1),\n",
       " (1906, 1),\n",
       " (1849, 1),\n",
       " (1886, 1),\n",
       " (1908, 1),\n",
       " (1375, 1),\n",
       " (1887, 1),\n",
       " (1532, 1),\n",
       " (1851, 1),\n",
       " (1889, 1),\n",
       " (1913, 1),\n",
       " (1605, 1),\n",
       " (1852, 1),\n",
       " (1914, 1),\n",
       " (1670, 1),\n",
       " (1854, 1),\n",
       " (1915, 1),\n",
       " (1689, 1),\n",
       " (1858, 1),\n",
       " (1894, 1),\n",
       " (1920, 1),\n",
       " (1726, 1),\n",
       " (1921, 1),\n",
       " (1729, 1),\n",
       " (1861, 1),\n",
       " (1896, 1),\n",
       " (1759, 1),\n",
       " (1865, 1),\n",
       " (1897, 1),\n",
       " (1923, 1),\n",
       " (1791, 1)]"
      ]
     },
     "execution_count": 40,
     "metadata": {},
     "output_type": "execute_result"
    }
   ],
   "source": [
    "cursor.fetchall()"
   ]
  },
  {
   "cell_type": "code",
   "execution_count": 41,
   "id": "32ba1279",
   "metadata": {},
   "outputs": [],
   "source": [
    "#/* Book Statistics                                           */\n",
    "#/* create a report to show 5 most popular Books to check out */\n",
    "cursor.execute(\"\"\"\n",
    "SELECT b.Title, b.Author, b.Published, COUNT(l.loanid) AS TotalTimesOfLoans\n",
    "FROM Books as b\n",
    "inner join Loans as l\n",
    "ON b.BookID = l.BookID\n",
    "GROUP BY b.Title, b.Author, b.Published\n",
    "ORDER BY TotalTimesOfLoans DESC\n",
    "LIMIT 5\n",
    ";\"\"\")"
   ]
  },
  {
   "cell_type": "code",
   "execution_count": 42,
   "id": "93fe29a8",
   "metadata": {},
   "outputs": [
    {
     "data": {
      "text/plain": [
       "[('Frankenstein; Or, The Modern Prometheus',\n",
       "  'Mary Wollstonecraft Shelley',\n",
       "  1818,\n",
       "  53),\n",
       " ('The Awakening, and Selected Short Stories', 'Kate Chopin', 1899, 43),\n",
       " ('The War of the Worlds', 'H. G. Wells', 1898, 43),\n",
       " ('The Scarlet Letter', 'Nathaniel Hawthorne', 1850, 42),\n",
       " ('The Picture of Dorian Gray', 'Oscar Wilde', 1890, 39)]"
      ]
     },
     "execution_count": 42,
     "metadata": {},
     "output_type": "execute_result"
    }
   ],
   "source": [
    "cursor.fetchall()"
   ]
  },
  {
   "cell_type": "code",
   "execution_count": null,
   "id": "c7ed062e",
   "metadata": {},
   "outputs": [],
   "source": []
  }
 ],
 "metadata": {
  "kernelspec": {
   "display_name": "Python 3 (ipykernel)",
   "language": "python",
   "name": "python3"
  },
  "language_info": {
   "codemirror_mode": {
    "name": "ipython",
    "version": 3
   },
   "file_extension": ".py",
   "mimetype": "text/x-python",
   "name": "python",
   "nbconvert_exporter": "python",
   "pygments_lexer": "ipython3",
   "version": "3.11.5"
  }
 },
 "nbformat": 4,
 "nbformat_minor": 5
}
